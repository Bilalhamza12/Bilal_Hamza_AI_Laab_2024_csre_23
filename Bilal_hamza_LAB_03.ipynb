{
  "metadata": {
    "kernelspec": {
      "name": "python",
      "display_name": "Python (Pyodide)",
      "language": "python"
    },
    "language_info": {
      "codemirror_mode": {
        "name": "python",
        "version": 3
      },
      "file_extension": ".py",
      "mimetype": "text/x-python",
      "name": "python",
      "nbconvert_exporter": "python",
      "pygments_lexer": "ipython3",
      "version": "3.8"
    }
  },
  "nbformat_minor": 5,
  "nbformat": 4,
  "cells": [
    {
      "id": "a60611bc-7ba4-4703-b4b3-5277ea126d97",
      "cell_type": "code",
      "source": "# --- Task 1: Student Marks & Grades ---\n\n# Step 1: Create a dictionary with student names and their marks\nstudents = {\"All\": 85, \"Sara\": 67, \"BilaI\": 45}\n\n# Step 2: Define a function to check grades for each student\ndef print_results(data):\n    \"\"\" This function takes a dictionary of student:marks and prints each student's marks with grade. \"\"\"\n    # Loop through dictionary using items() to get (name, marks)\n    for name, marks in data.items():\n        # Apply grading rules using if/elif/else\n        if marks >= 80:\n            grade = \"A\"\n        elif marks >= 60:\n            grade = \"B\"\n        elif marks >= 50:\n            grade = \"C\"\n        else:\n            grade = \"Fall\"\n\n        # Print result for each student\n        print(f\"{name}: {marks} -> Grade: {grade}\")\n\n# Step 3: Call the function\nprint_results(students)",
      "metadata": {
        "trusted": true,
        "scrolled": true
      },
      "outputs": [
        {
          "name": "stdout",
          "output_type": "stream",
          "text": "All: 85 -> Grade: A\nSara: 67 -> Grade: B\nBilaI: 45 -> Grade: Fall\n"
        }
      ],
      "execution_count": 8
    },
    {
      "id": "8eb3f248-0342-435b-a5e3-6a253c6908c7",
      "cell_type": "code",
      "source": "# --- Task 2: Word Counter ---\n\n# Step 1: Take input sentence from user\nsentence = input(\"Enter a sentence: \")\n\n# Step 2: Split sentence into list of words\nwords = sentence.split()\n\n# Step 3: Create an empty dictionary for counts\ncounter = {}\n\n# Step 4: Loop through words\nfor w in words:\n    w = w.lower() # Convert to lowercase for consistency\n    if w in counter:\n        # If word already exists, increment count\n        counter[w] += 1\n    else:\n        # If word appears first time, set count = 1\n        counter[w] = 1\n\n# Step 5: Print dictionary of word counts\nprint(\"Word counts:\", counter)\n",
      "metadata": {
        "trusted": true
      },
      "outputs": [
        {
          "output_type": "stream",
          "name": "stdin",
          "text": "Enter a sentence:  bilal hamza \n"
        },
        {
          "name": "stdout",
          "output_type": "stream",
          "text": "Word counts: {'bilal': 1, 'hamza': 1}\n"
        }
      ],
      "execution_count": 14
    },
    {
      "id": "446cac38-8e8a-4bb8-a565-c36510ff7fe4",
      "cell_type": "code",
      "source": "# --- Task 3: Simple Chatbot ---\n\n# Step 1: Create dictionary of possible responses\nresponses = {\n    \"hi\": \"Hello! How can I help you?\",\n    \"bye\": \"Goodbye! Have a nice day!\",\n    \"how are you\": \"I'm doing great, thanks!\"\n}\n\n# Step 2: Take input from user\nuser = input(\"You:\").lower() # Lowercase for matching\n\n# Step 3: Match user input with dictionary keys\nif user in responses:\n    # If user input exists, print the response\n    print(\"Bot:\", responses[user])\nelse:\n    # If input not found, show default response\n    print(\"Bot: Sorry, I don't understand.\")",
      "metadata": {
        "trusted": true
      },
      "outputs": [
        {
          "output_type": "stream",
          "name": "stdin",
          "text": "You: how are you\n"
        },
        {
          "name": "stdout",
          "output_type": "stream",
          "text": "Bot: I'm doing great, thanks!\n"
        }
      ],
      "execution_count": 12
    },
    {
      "id": "f59b564d-9c0e-4388-8757-31560d8d541f",
      "cell_type": "code",
      "source": "# -- Task 5: Weather Decision ---\n\n# Step 1: Define function with weather as input\ndef suggest_activity(weather):\n    weather = weather.lower()   # normalize input\n    if weather == \"sunny\":\n        return \"Go outside.\"\n    elif weather == \"rainy\":\n        return \"Take an umbrella.\"\n    elif weather == \"cold\":\n        return \"Stay warm at home.\"\n    elif weather == \"windy\":\n        return \"Fly a kite.\"\n    else:\n        return \"Unknown weather condition.\"\n\n# Step 2: Example test (you can replace with user input)\nprint(suggest_activity(\"rainy\"))",
      "metadata": {
        "trusted": true
      },
      "outputs": [
        {
          "name": "stdout",
          "output_type": "stream",
          "text": "Take an umbrella.\n"
        }
      ],
      "execution_count": 26
    },
    {
      "id": "980bd318-fc71-49fd-8a20-40dadb16e109",
      "cell_type": "code",
      "source": "# --- Task 6: Data Analyzer ---\n\n# Step 1: Example dataset\nnumbers = [100,12, 45, 67, 23, 89, 34]\n\n# Step 2: Define function to analyze numbers\ndef analyze(nums):\n    maximum = max(nums) # Find largest\n    minimum = min(nums) # Find smallest\n    average = sum(nums) / len(nums) # Calculate mean\n\n    # Print summary\n    print(\"Numbers:\", nums)\n    print(\"Max:\", maximum)\n    print(\"Min:\", minimum)\n    print(\"Average:\", average)\n\n    # Find numbers greater than average\n    above_avg = [n for n in nums if n > average]\n    print(\"Above average:\", above_avg)\n\n# Step 3: Call function\nanalyze(numbers)",
      "metadata": {
        "trusted": true
      },
      "outputs": [
        {
          "name": "stdout",
          "output_type": "stream",
          "text": "Numbers: [100, 12, 45, 67, 23, 89, 34]\nMax: 100\nMin: 12\nAverage: 52.857142857142854\nAbove average: [100, 67, 89]\n"
        }
      ],
      "execution_count": 22
    },
    {
      "id": "5da452af-10f8-436e-a310-60c3dcef0bb8",
      "cell_type": "code",
      "source": "",
      "metadata": {
        "trusted": true
      },
      "outputs": [],
      "execution_count": null
    }
  ]
}