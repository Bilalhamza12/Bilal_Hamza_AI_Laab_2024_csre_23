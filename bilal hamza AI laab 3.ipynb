{
  "metadata": {
    "kernelspec": {
      "name": "python",
      "display_name": "Python (Pyodide)",
      "language": "python"
    },
    "language_info": {
      "codemirror_mode": {
        "name": "python",
        "version": 3
      },
      "file_extension": ".py",
      "mimetype": "text/x-python",
      "name": "python",
      "nbconvert_exporter": "python",
      "pygments_lexer": "ipython3",
      "version": "3.8"
    }
  },
  "nbformat_minor": 5,
  "nbformat": 4,
  "cells": [
    {
      "id": "4459e5cb-d46d-4044-b467-e52e05025a12",
      "cell_type": "markdown",
      "source": "**Task 1 Solution**",
      "metadata": {}
    },
    {
      "id": "c2eb76b8-300f-4fe7-91b9-14f09e265d6b",
      "cell_type": "code",
      "source": "# --- Task 1 Solution (Fully Commented) ---\n\ndef get_grade(marks):\n    \"\"\"\n    Return a letter grade based on numeric marks.\n\n    Parameters\n    ----------\n    marks : int or float\n        The marks for a student (0-100).\n\n    Returns\n    -------\n    str\n        One of 'A', 'B', 'C', or 'Fail' according to specified thresholds.\n    \"\"\"\n    # Use descending thresholds (highest first) to avoid overlapping conditions.\n    if marks >= 80:\n        return \"A\"  # 80-100 -> A\n    elif marks >= 60:\n        return \"B\"  # 60-79 -> B\n    elif marks >= 40:\n        return \"C\"  # 40-59 -> C\n    else:\n        return \"Fail\"  # <40 -> Fail\n\n# Example data to demonstrate function usage\nmarks_list = [95, 72, 38, 60, 45]\n\n# Loop through the list and print grade for each entry\nfor m in marks_list:\n    # f-string shows both the marks and the computed grade\n    print(f\"Marks: {m} -> Grade: {get_grade(m)}\")",
      "metadata": {},
      "outputs": [
        {
          "name": "stdout",
          "output_type": "stream",
          "text": "Marks: 95 -> Grade: A\n,Marks: 72 -> Grade: B\n,Marks: 38 -> Grade: Fail\n,Marks: 60 -> Grade: B\n,Marks: 45 -> Grade: C\n"
        }
      ],
      "execution_count": 6
    },
    {
      "id": "1de61424-8b3c-4522-9f7d-4693fcda4958",
      "cell_type": "markdown",
      "source": "**Task 2 Solution**",
      "metadata": {}
    },
    {
      "id": "27ecf919-ae9f-493d-989e-a7b789e3774f",
      "cell_type": "code",
      "source": "# --- Task 2 Solution (Fully Commented) ---\n\nimport string  # Provides string.punctuation (all common punctuation chars)\n\n# Example input sentence; replace with input() to read from user if needed\nsentence = \"Hello, Students! AI is amazing, isn't it?\"\n\n# 1) Lowercase conversion\nsentence_lower = sentence.lower()\ncleaned = sentence_lower  # Initialize 'cleaned' for the next step\n\n# 2) Remove punctuation by replacing each punctuation char with empty string\nfor p in string.punctuation:\n    cleaned = cleaned.replace(p, \"\")\n\n# 3) Tokenization: split the cleaned sentence into words on whitespace\nwords = cleaned.split()\n\n# Show results at each stage for clarity\nprint(\"Original:\", sentence)\nprint(\"Lower   :\", sentence_lower)\nprint(\"Cleaned :\", cleaned)\nprint(\"Words   :\", words)",
      "metadata": {},
      "outputs": [
        {
          "name": "stdout",
          "output_type": "stream",
          "text": "Original: Hello, Students! AI is amazing, isn't it?\n,Lower   : hello, students! ai is amazing, isn't it?\n,Cleaned : hello students ai is amazing isnt it\n,Words   : ['hello', 'students', 'ai', 'is', 'amazing', 'isnt', 'it']\n"
        }
      ],
      "execution_count": 13
    },
    {
      "id": "0150881c-deae-4814-a7d9-7fab76ab3dfb",
      "cell_type": "markdown",
      "source": "**Task 3 Solution**",
      "metadata": {}
    },
    {
      "id": "6347efd1-7e64-4557-abae-597759858b0e",
      "cell_type": "code",
      "source": "# --- Task 3 Solution (Fully Commented) ---\n\nimport numpy as np  # NumPy is the fundamental package for scientific computing\n\n# Create a NumPy array of numeric values (10 elements)\narr = np.array([10, 20, 30, 40, 50, 60, 70, 80, 90, 100])\n\n# Compute basic statistics using NumPy vectorized methods\narr_sum = arr.sum()    # sum of all elements\narr_mean = arr.mean()  # arithmetic mean\narr_max = arr.max()    # maximum value\narr_min = arr.min()    # minimum value\n\n# Build a boolean mask: True where element is strictly greater than mean\nmask_above_mean = arr > arr_mean\n\n# Use the mask to filter elements\nabove_mean_values = arr[mask_above_mean]\n\n# Display results\nprint(\"Array      :\", arr)\nprint(\"Sum        :\", arr_sum)\nprint(\"Mean       :\", arr_mean)\nprint(\"Max / Min  :\", arr_max, \"/\", arr_min)\nprint(\"Above Mean?:\", mask_above_mean)  # shows True/False per element\nprint(\"Values > Mean :\", above_mean_values)",
      "metadata": {},
      "outputs": [
        {
          "name": "stdout",
          "output_type": "stream",
          "text": "Array      : [ 10  20  30  40  50  60  70  80  90 100]\n,Sum        : 550\n,Mean       : 55.0\n,Max / Min  : 100 / 10\n,Above Mean?: [False False False False False  True  True  True  True  True]\n,Values > Mean : [ 60  70  80  90 100]\n"
        }
      ],
      "execution_count": 8
    },
    {
      "id": "7d84e55f-7297-43e4-8972-ccba9c09a609",
      "cell_type": "markdown",
      "source": "**Task 4 Solution**",
      "metadata": {}
    },
    {
      "id": "75871b4c-75fd-4605-9c6f-a579cac40597",
      "cell_type": "code",
      "source": "# --- Task 4 Solution (Fully Commented) ---\n\n# Example user input (replace with input(...) if you want interactive behavior)\nfeeling = input(\"Enter your feeling!\")  # try values like \"tired\", \"hungry\", \"sad\", \"happy\", or something else\n\n# Dictionary maps known feelings to suggested responses\nresponses = {\n    \"tired\": \"Take a short rest and drink water.\",\n    \"hungry\": \"Have a balanced snack (fruit + nuts) or a healthy meal.\",\n    \"sad\": \"Take a short walk and talk to a friend.\",\n    \"happy\": \"Great! Keep smiling and spread positivity.\"\n}\n\n# Normalize the feeling string to lowercase to match dictionary keys\nfeeling_key = feeling.lower()\n\n# Select a response based on the input; provide a default if not found\nif feeling_key in responses:\n    print(\"Feeling     :\", feeling)\n    print(\"Suggestion  :\", responses[feeling_key])\nelse:\n    print(\"Feeling     :\", feeling)\n    print(\"Suggestion  : I'm not sure about this feeling. Try 'tired', 'hungry', 'sad', or 'happy'.\")",
      "metadata": {},
      "outputs": [
        {
          "name": "stdin",
          "output_type": "stream",
          "text": "Enter your feeling! Happy\n"
        },
        {
          "name": "stdout",
          "output_type": "stream",
          "text": "Feeling     : Happy\n,Suggestion  : Great! Keep smiling and spread positivity.\n"
        }
      ],
      "execution_count": 17
    },
    {
      "id": "7d2c42d1-c820-49b4-a39d-8404c3e0afb6",
      "cell_type": "markdown",
      "source": "**Task 5 Solution**",
      "metadata": {}
    },
    {
      "id": "86a06bae-1bdc-48e1-b6aa-6e3f591f2c33",
      "cell_type": "code",
      "source": "# --- Task 5 Solution (Fully Commented) ---\n\nimport numpy as np\n\n# Create integers from 1 to 20 (inclusive of 1, exclusive of 21)\narr = np.arange(1, 21)\n\n# Boolean masks: True where condition holds\neven_mask = (arr % 2 == 0)\nodd_mask = ~even_mask  # Logical NOT of even_mask\n\n# Filter arrays using masks\nevens = arr[even_mask]\nodds = arr[odd_mask]\n\n# Count evens and odds using len(...) or .size\nn_evens = len(evens)\nn_odds = len(odds)\n\n# Display results\nprint(\"All numbers :\", arr)\nprint(\"Even mask   :\", even_mask)\nprint(\"Odd mask    :\", odd_mask)\nprint(\"Evens       :\", evens, \"-> count =\", n_evens)\nprint(\"Odds        :\", odds, \"-> count =\", n_odds)",
      "metadata": {},
      "outputs": [
        {
          "name": "stdout",
          "output_type": "stream",
          "text": "All numbers : [ 1  2  3  4  5  6  7  8  9 10 11 12 13 14 15 16 17 18 19 20]\n,Even mask   : [False  True False  True False  True False  True False  True False  True\n, False  True False  True False  True False  True]\n,Odd mask    : [ True False  True False  True False  True False  True False  True False\n,  True False  True False  True False  True False]\n,Evens       : [ 2  4  6  8 10 12 14 16 18 20] -> count = 10\n,Odds        : [ 1  3  5  7  9 11 13 15 17 19] -> count = 10\n"
        }
      ],
      "execution_count": 10
    },
    {
      "id": "65234d25-9fd3-4f3a-b255-540db4dacce2",
      "cell_type": "markdown",
      "source": "**Wrap-Up Challenge Solution**",
      "metadata": {}
    },
    {
      "id": "af746a58-a75f-494b-9b89-e9e92cd7504f",
      "cell_type": "code",
      "source": "# --- Wrap-Up Challenge Solution (Fully Commented) ---\n\nimport numpy as np\n\n# Set a random seed so results are repeatable (optional)\nnp.random.seed(42)\n\n# Generate random marks for 10 students between 0 and 100 (inclusive of 0, exclusive of 101)\nmarks = np.random.randint(0, 101, size=10)\n\n# Compute summary statistics\navg = marks.mean()\ntopper = marks.max()\nlowest = marks.min()\n\n# Boolean mask for students scoring above average\nabove_avg_mask = marks > avg\nabove_avg_scores = marks[above_avg_mask]\n\n# Display the full analysis\nprint(\"Marks array            :\", marks)\nprint(\"Class Average          :\", round(avg, 2))\nprint(\"Topper Score           :\", topper)\nprint(\"Lowest Score           :\", lowest)\nprint(\"Above-Average Mask     :\", above_avg_mask)\nprint(\"Above-Average Scores   :\", above_avg_scores)",
      "metadata": {},
      "outputs": [
        {
          "name": "stdout",
          "output_type": "stream",
          "text": "Marks array            : [51 92 14 71 60 20 82 86 74 74]\n,Class Average          : 62.4\n,Topper Score           : 92\n,Lowest Score           : 14\n,Above-Average Mask     : [False  True False  True False False  True  True  True  True]\n,Above-Average Scores   : [92 71 82 86 74 74]\n"
        }
      ],
      "execution_count": 12
    },
    {
      "id": "bc17c47c-72e5-41d4-ad34-95b72c97226a",
      "cell_type": "code",
      "source": "",
      "metadata": {},
      "outputs": [],
      "execution_count": null
    }
  ]
}